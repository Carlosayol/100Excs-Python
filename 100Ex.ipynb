{
 "cells": [
  {
   "cell_type": "code",
   "execution_count": 3,
   "metadata": {},
   "outputs": [
    {
     "name": "stdout",
     "output_type": "stream",
     "text": [
      "2001,2002,2003,2004,2006,2007,2008,2009,2011,2012,2013,2014,2016,2017,2018,2019,2021,2022,2023,2024,2026,2027,2028,2029,2030,2031,2032,2033,2034,2036,2037,2038,2039,2041,2042,2043,2044,2046,2047,2048,2049,2051,2052,2053,2054,2056,2057,2058,2059,2061,2062,2063,2064,2065,2066,2067,2068,2069,2071,2072,2073,2074,2076,2077,2078,2079,2081,2082,2083,2084,2086,2087,2088,2089,2091,2092,2093,2094,2096,2097,2098,2099,2100,2101,2102,2103,2104,2106,2107,2108,2109,2111,2112,2113,2114,2116,2117,2118,2119,2121,2122,2123,2124,2126,2127,2128,2129,2131,2132,2133,2134,2135,2136,2137,2138,2139,2141,2142,2143,2144,2146,2147,2148,2149,2151,2152,2153,2154,2156,2157,2158,2159,2161,2162,2163,2164,2166,2167,2168,2169,2170,2171,2172,2173,2174,2176,2177,2178,2179,2181,2182,2183,2184,2186,2187,2188,2189,2191,2192,2193,2194,2196,2197,2198,2199,2201,2202,2203,2204,2205,2206,2207,2208,2209,2211,2212,2213,2214,2216,2217,2218,2219,2221,2222,2223,2224,2226,2227,2228,2229,2231,2232,2233,2234,2236,2237,2238,2239,2240,2241,2242,2243,2244,2246,2247,2248,2249,2251,2252,2253,2254,2256,2257,2258,2259,2261,2262,2263,2264,2266,2267,2268,2269,2271,2272,2273,2274,2275,2276,2277,2278,2279,2281,2282,2283,2284,2286,2287,2288,2289,2291,2292,2293,2294,2296,2297,2298,2299,2301,2302,2303,2304,2306,2307,2308,2309,2310,2311,2312,2313,2314,2316,2317,2318,2319,2321,2322,2323,2324,2326,2327,2328,2329,2331,2332,2333,2334,2336,2337,2338,2339,2341,2342,2343,2344,2345,2346,2347,2348,2349,2351,2352,2353,2354,2356,2357,2358,2359,2361,2362,2363,2364,2366,2367,2368,2369,2371,2372,2373,2374,2376,2377,2378,2379,2380,2381,2382,2383,2384,2386,2387,2388,2389,2391,2392,2393,2394,2396,2397,2398,2399,2401,2402,2403,2404,2406,2407,2408,2409,2411,2412,2413,2414,2415,2416,2417,2418,2419,2421,2422,2423,2424,2426,2427,2428,2429,2431,2432,2433,2434,2436,2437,2438,2439,2441,2442,2443,2444,2446,2447,2448,2449,2450,2451,2452,2453,2454,2456,2457,2458,2459,2461,2462,2463,2464,2466,2467,2468,2469,2471,2472,2473,2474,2476,2477,2478,2479,2481,2482,2483,2484,2485,2486,2487,2488,2489,2491,2492,2493,2494,2496,2497,2498,2499,2501,2502,2503,2504,2506,2507,2508,2509,2511,2512,2513,2514,2516,2517,2518,2519,2520,2521,2522,2523,2524,2526,2527,2528,2529,2531,2532,2533,2534,2536,2537,2538,2539,2541,2542,2543,2544,2546,2547,2548,2549,2551,2552,2553,2554,2555,2556,2557,2558,2559,2561,2562,2563,2564,2566,2567,2568,2569,2571,2572,2573,2574,2576,2577,2578,2579,2581,2582,2583,2584,2586,2587,2588,2589,2590,2591,2592,2593,2594,2596,2597,2598,2599,2601,2602,2603,2604,2606,2607,2608,2609,2611,2612,2613,2614,2616,2617,2618,2619,2621,2622,2623,2624,2625,2626,2627,2628,2629,2631,2632,2633,2634,2636,2637,2638,2639,2641,2642,2643,2644,2646,2647,2648,2649,2651,2652,2653,2654,2656,2657,2658,2659,2660,2661,2662,2663,2664,2666,2667,2668,2669,2671,2672,2673,2674,2676,2677,2678,2679,2681,2682,2683,2684,2686,2687,2688,2689,2691,2692,2693,2694,2695,2696,2697,2698,2699,2701,2702,2703,2704,2706,2707,2708,2709,2711,2712,2713,2714,2716,2717,2718,2719,2721,2722,2723,2724,2726,2727,2728,2729,2730,2731,2732,2733,2734,2736,2737,2738,2739,2741,2742,2743,2744,2746,2747,2748,2749,2751,2752,2753,2754,2756,2757,2758,2759,2761,2762,2763,2764,2765,2766,2767,2768,2769,2771,2772,2773,2774,2776,2777,2778,2779,2781,2782,2783,2784,2786,2787,2788,2789,2791,2792,2793,2794,2796,2797,2798,2799,2800,2801,2802,2803,2804,2806,2807,2808,2809,2811,2812,2813,2814,2816,2817,2818,2819,2821,2822,2823,2824,2826,2827,2828,2829,2831,2832,2833,2834,2835,2836,2837,2838,2839,2841,2842,2843,2844,2846,2847,2848,2849,2851,2852,2853,2854,2856,2857,2858,2859,2861,2862,2863,2864,2866,2867,2868,2869,2870,2871,2872,2873,2874,2876,2877,2878,2879,2881,2882,2883,2884,2886,2887,2888,2889,2891,2892,2893,2894,2896,2897,2898,2899,2901,2902,2903,2904,2905,2906,2907,2908,2909,2911,2912,2913,2914,2916,2917,2918,2919,2921,2922,2923,2924,2926,2927,2928,2929,2931,2932,2933,2934,2936,2937,2938,2939,2940,2941,2942,2943,2944,2946,2947,2948,2949,2951,2952,2953,2954,2956,2957,2958,2959,2961,2962,2963,2964,2966,2967,2968,2969,2971,2972,2973,2974,2975,2976,2977,2978,2979,2981,2982,2983,2984,2986,2987,2988,2989,2991,2992,2993,2994,2996,2997,2998,2999,3001,3002,3003,3004,3006,3007,3008,3009,3010,3011,3012,3013,3014,3016,3017,3018,3019,3021,3022,3023,3024,3026,3027,3028,3029,3031,3032,3033,3034,3036,3037,3038,3039,3041,3042,3043,3044,3045,3046,3047,3048,3049,3051,3052,3053,3054,3056,3057,3058,3059,3061,3062,3063,3064,3066,3067,3068,3069,3071,3072,3073,3074,3076,3077,3078,3079,3080,3081,3082,3083,3084,3086,3087,3088,3089,3091,3092,3093,3094,3096,3097,3098,3099,3101,3102,3103,3104,3106,3107,3108,3109,3111,3112,3113,3114,3115,3116,3117,3118,3119,3121,3122,3123,3124,3126,3127,3128,3129,3131,3132,3133,3134,3136,3137,3138,3139,3141,3142,3143,3144,3146,3147,3148,3149,3150,3151,3152,3153,3154,3156,3157,3158,3159,3161,3162,3163,3164,3166,3167,3168,3169,3171,3172,3173,3174,3176,3177,3178,3179,3181,3182,3183,3184,3185,3186,3187,3188,3189,3191,3192,3193,3194,3196,3197,3198,3199,\b\n"
     ]
    }
   ],
   "source": [
    "for i in range(2000,3201):\n",
    "    if(i%7==0 or i%5!=0):\n",
    "        print(i,end=',')\n",
    "print(\"\\b\")"
   ]
  },
  {
   "cell_type": "code",
   "execution_count": 10,
   "metadata": {},
   "outputs": [
    {
     "name": "stdout",
     "output_type": "stream",
     "text": [
      "5\n"
     ]
    },
    {
     "data": {
      "text/plain": [
       "120"
      ]
     },
     "execution_count": 10,
     "metadata": {},
     "output_type": "execute_result"
    }
   ],
   "source": [
    "n = int(input())\n",
    "\n",
    "def fact(n):\n",
    "    f = 1\n",
    "    for i in range(1,n+1):\n",
    "        f = f*i;\n",
    "    return f\n",
    "\n",
    "fact(n)"
   ]
  },
  {
   "cell_type": "code",
   "execution_count": 3,
   "metadata": {},
   "outputs": [
    {
     "name": "stdout",
     "output_type": "stream",
     "text": [
      "8\n"
     ]
    },
    {
     "data": {
      "text/plain": [
       "{1: 1, 2: 4, 3: 9, 4: 16, 5: 25, 6: 36, 7: 49, 8: 64}"
      ]
     },
     "execution_count": 3,
     "metadata": {},
     "output_type": "execute_result"
    }
   ],
   "source": [
    "n = int(input())\n",
    "\n",
    "def gen_dict(n):\n",
    "    d = {}\n",
    "    for i in range(1,n+1):\n",
    "        d[i] = i*i\n",
    "    return d\n",
    "\n",
    "gen_dict(n)"
   ]
  },
  {
   "cell_type": "markdown",
   "metadata": {},
   "source": [
    "# Dia 2"
   ]
  },
  {
   "cell_type": "code",
   "execution_count": 19,
   "metadata": {},
   "outputs": [
    {
     "name": "stdout",
     "output_type": "stream",
     "text": [
      "12,22,32\n"
     ]
    },
    {
     "data": {
      "text/plain": [
       "(['12', '22', '32'], ('12', '22', '32'))"
      ]
     },
     "execution_count": 19,
     "metadata": {},
     "output_type": "execute_result"
    }
   ],
   "source": [
    "#Q4\n",
    "n = input()\n",
    "\n",
    "def tolistandtuple(n):\n",
    "    return n.split(sep=','), tuple(n.split(sep=','))\n",
    "\n",
    "tolistandtuple(n)"
   ]
  },
  {
   "cell_type": "code",
   "execution_count": 20,
   "metadata": {},
   "outputs": [],
   "source": [
    "#Q5\n",
    "class twoMethods():\n",
    "    s=\"\"\n",
    "    \n",
    "    def getString(self):\n",
    "        self.s = input()\n",
    "    def printString(self):\n",
    "        print(self.s.upper())\n",
    "        "
   ]
  },
  {
   "cell_type": "code",
   "execution_count": 21,
   "metadata": {},
   "outputs": [
    {
     "name": "stdout",
     "output_type": "stream",
     "text": [
      "mew\n"
     ]
    }
   ],
   "source": [
    "miau = twoMethods()\n",
    "miau.getString()"
   ]
  },
  {
   "cell_type": "code",
   "execution_count": 22,
   "metadata": {},
   "outputs": [
    {
     "name": "stdout",
     "output_type": "stream",
     "text": [
      "MEW\n"
     ]
    }
   ],
   "source": [
    "miau.printString()"
   ]
  },
  {
   "cell_type": "code",
   "execution_count": 32,
   "metadata": {},
   "outputs": [
    {
     "name": "stdout",
     "output_type": "stream",
     "text": [
      "100,150,180\n"
     ]
    },
    {
     "data": {
      "text/plain": [
       "[18, 22, 24]"
      ]
     },
     "execution_count": 32,
     "metadata": {},
     "output_type": "execute_result"
    }
   ],
   "source": [
    "#Q6\n",
    "from math import sqrt\n",
    "\n",
    "n = input().split(',')\n",
    "n = list(map(int, n))\n",
    "\n",
    "C,H = 50,30\n",
    "\n",
    "def equation(D):\n",
    "    return round(sqrt((2*C*D)/H))\n",
    "\n",
    "results = [equation(D) for D in n]\n",
    "results"
   ]
  },
  {
   "cell_type": "code",
   "execution_count": 51,
   "metadata": {},
   "outputs": [
    {
     "name": "stdout",
     "output_type": "stream",
     "text": [
      "3,5\n"
     ]
    },
    {
     "data": {
      "text/plain": [
       "[[0, 0, 0, 0, 0], [0, 1, 2, 3, 4], [0, 2, 4, 6, 8]]"
      ]
     },
     "execution_count": 51,
     "metadata": {},
     "output_type": "execute_result"
    }
   ],
   "source": [
    "#Q7\n",
    "\n",
    "m = input().split(',')\n",
    "i,j = int(m[0]), int(m[1])\n",
    "\n",
    "def matrix(j,i):\n",
    "    ls = [[0 for x in range(i)] for y in range(j)] \n",
    "    for jc in range(j):\n",
    "        for ir in range(i):\n",
    "            ls[jc][ir] = jc*ir\n",
    "            \n",
    "    return ls\n",
    "\n",
    "matrix(i,j)"
   ]
  },
  {
   "cell_type": "code",
   "execution_count": 54,
   "metadata": {},
   "outputs": [
    {
     "name": "stdout",
     "output_type": "stream",
     "text": [
      "without,hello,bag,world\n",
      "['bag', 'hello', 'without', 'world']\n"
     ]
    }
   ],
   "source": [
    "#Q8\n",
    "m = input().split(',')\n",
    "print(sorted(m))"
   ]
  },
  {
   "cell_type": "code",
   "execution_count": 59,
   "metadata": {},
   "outputs": [
    {
     "name": "stdout",
     "output_type": "stream",
     "text": [
      "mew\n",
      "MEW\n",
      "Hello world Practice makes perfect\n",
      "HELLO WORLD PRACTICE MAKES PERFECT\n",
      "\n"
     ]
    }
   ],
   "source": [
    "#Q9\n",
    "def user_input():\n",
    "    while True:\n",
    "        s = input()\n",
    "        if not s:\n",
    "            return\n",
    "        yield s\n",
    "\n",
    "for line in map(str.upper, user_input()):\n",
    "    print(line)\n"
   ]
  },
  {
   "cell_type": "markdown",
   "metadata": {},
   "source": [
    "# Dia3\n"
   ]
  },
  {
   "cell_type": "code",
   "execution_count": 4,
   "metadata": {},
   "outputs": [
    {
     "name": "stdout",
     "output_type": "stream",
     "text": [
      "hola pa ti mi cola\n",
      "cola hola mi pa ti\n"
     ]
    }
   ],
   "source": [
    "#Q10\n",
    "m = input().split(' ')\n",
    "print(\" \".join(sorted(set(m))))"
   ]
  },
  {
   "cell_type": "code",
   "execution_count": 9,
   "metadata": {},
   "outputs": [
    {
     "name": "stdout",
     "output_type": "stream",
     "text": [
      "1010,111\n",
      "1010\n"
     ]
    }
   ],
   "source": [
    "#Q11\n",
    "m = list(input().split(','))\n",
    "s = []\n",
    "for n in m:\n",
    "    if(int(n,2)%5==0):\n",
    "        s.append(n)\n",
    "    \n",
    "print(\" \".join(s))\n"
   ]
  },
  {
   "cell_type": "code",
   "execution_count": 25,
   "metadata": {
    "collapsed": true
   },
   "outputs": [
    {
     "data": {
      "text/plain": [
       "[2000,\n",
       " 2002,\n",
       " 2004,\n",
       " 2006,\n",
       " 2008,\n",
       " 2020,\n",
       " 2022,\n",
       " 2024,\n",
       " 2026,\n",
       " 2028,\n",
       " 2040,\n",
       " 2042,\n",
       " 2044,\n",
       " 2046,\n",
       " 2048,\n",
       " 2060,\n",
       " 2062,\n",
       " 2064,\n",
       " 2066,\n",
       " 2068,\n",
       " 2080,\n",
       " 2082,\n",
       " 2084,\n",
       " 2086,\n",
       " 2088,\n",
       " 2200,\n",
       " 2202,\n",
       " 2204,\n",
       " 2206,\n",
       " 2208,\n",
       " 2220,\n",
       " 2222,\n",
       " 2224,\n",
       " 2226,\n",
       " 2228,\n",
       " 2240,\n",
       " 2242,\n",
       " 2244,\n",
       " 2246,\n",
       " 2248,\n",
       " 2260,\n",
       " 2262,\n",
       " 2264,\n",
       " 2266,\n",
       " 2268,\n",
       " 2280,\n",
       " 2282,\n",
       " 2284,\n",
       " 2286,\n",
       " 2288,\n",
       " 2400,\n",
       " 2402,\n",
       " 2404,\n",
       " 2406,\n",
       " 2408,\n",
       " 2420,\n",
       " 2422,\n",
       " 2424,\n",
       " 2426,\n",
       " 2428,\n",
       " 2440,\n",
       " 2442,\n",
       " 2444,\n",
       " 2446,\n",
       " 2448,\n",
       " 2460,\n",
       " 2462,\n",
       " 2464,\n",
       " 2466,\n",
       " 2468,\n",
       " 2480,\n",
       " 2482,\n",
       " 2484,\n",
       " 2486,\n",
       " 2488,\n",
       " 2600,\n",
       " 2602,\n",
       " 2604,\n",
       " 2606,\n",
       " 2608,\n",
       " 2620,\n",
       " 2622,\n",
       " 2624,\n",
       " 2626,\n",
       " 2628,\n",
       " 2640,\n",
       " 2642,\n",
       " 2644,\n",
       " 2646,\n",
       " 2648,\n",
       " 2660,\n",
       " 2662,\n",
       " 2664,\n",
       " 2666,\n",
       " 2668,\n",
       " 2680,\n",
       " 2682,\n",
       " 2684,\n",
       " 2686,\n",
       " 2688,\n",
       " 2800,\n",
       " 2802,\n",
       " 2804,\n",
       " 2806,\n",
       " 2808,\n",
       " 2820,\n",
       " 2822,\n",
       " 2824,\n",
       " 2826,\n",
       " 2828,\n",
       " 2840,\n",
       " 2842,\n",
       " 2844,\n",
       " 2846,\n",
       " 2848,\n",
       " 2860,\n",
       " 2862,\n",
       " 2864,\n",
       " 2866,\n",
       " 2868,\n",
       " 2880,\n",
       " 2882,\n",
       " 2884,\n",
       " 2886,\n",
       " 2888]"
      ]
     },
     "execution_count": 25,
     "metadata": {},
     "output_type": "execute_result"
    }
   ],
   "source": [
    "#Q12\n",
    "mews=[]\n",
    "for i in range(1000,3001):\n",
    "    mew = True\n",
    "    s = [n for n in str(i)]\n",
    "    for j in s:\n",
    "        j = int(j)\n",
    "        if(j%2 !=0 ):\n",
    "            mew = False\n",
    "            \n",
    "    if(mew):\n",
    "        mews.append(i)\n",
    "            \n",
    "mews\n",
    "    "
   ]
  },
  {
   "cell_type": "code",
   "execution_count": 13,
   "metadata": {},
   "outputs": [
    {
     "name": "stdout",
     "output_type": "stream",
     "text": [
      "HOLA miau 10\n"
     ]
    }
   ],
   "source": [
    "#Q13\n",
    "word = input()\n",
    "letter, digit = 0,0\n",
    "\n",
    "for i in word:\n",
    "    if i.isalpha(): # returns True if alphabet\n",
    "        letter += 1\n",
    "    elif i.isnumeric(): # returns True if numeric\n",
    "        digit += 1"
   ]
  },
  {
   "cell_type": "code",
   "execution_count": 15,
   "metadata": {},
   "outputs": [
    {
     "name": "stdout",
     "output_type": "stream",
     "text": [
      "8\n",
      "2\n"
     ]
    }
   ],
   "source": [
    "print(letter)\n",
    "print(digit)"
   ]
  },
  {
   "cell_type": "markdown",
   "metadata": {},
   "source": [
    "# Dia 4"
   ]
  },
  {
   "cell_type": "code",
   "execution_count": 4,
   "metadata": {},
   "outputs": [
    {
     "name": "stdout",
     "output_type": "stream",
     "text": [
      "Aja de je\n",
      "Mayusculas:  1\n",
      "Minusculas:  6\n"
     ]
    }
   ],
   "source": [
    "#Q14\n",
    "word = input()\n",
    "upper, lower = 0,0\n",
    "\n",
    "for i in word:\n",
    "    if i.isupper():\n",
    "        upper += 1\n",
    "    elif i.islower():\n",
    "        lower += 1\n",
    "        \n",
    "print(\"Mayusculas: \",upper)\n",
    "print(\"Minusculas: \",lower)"
   ]
  },
  {
   "cell_type": "code",
   "execution_count": 11,
   "metadata": {},
   "outputs": [
    {
     "name": "stdout",
     "output_type": "stream",
     "text": [
      "9\n",
      "11106\n"
     ]
    }
   ],
   "source": [
    "#Q15\n",
    "number = input()\n",
    "suma = 0\n",
    "\n",
    "for i in range(1,5):\n",
    "    suma = suma + int(number*i)\n",
    "\n",
    "print(suma)"
   ]
  },
  {
   "cell_type": "markdown",
   "metadata": {},
   "source": [
    "# Dia 5"
   ]
  },
  {
   "cell_type": "code",
   "execution_count": 5,
   "metadata": {},
   "outputs": [
    {
     "name": "stdout",
     "output_type": "stream",
     "text": [
      "1,2,3,4,5\n",
      "[1, 9, 25]\n"
     ]
    }
   ],
   "source": [
    "#Q16\n",
    "lista = input().split(',')\n",
    "\n",
    "nums = [int(i) for i in lista]\n",
    "odds = [i**2 for i in nums if i%2!=0]\n",
    "print(odds)"
   ]
  },
  {
   "cell_type": "code",
   "execution_count": 14,
   "metadata": {},
   "outputs": [
    {
     "name": "stdout",
     "output_type": "stream",
     "text": [
      "D 300,D 300,W 200,D 100\n",
      "500\n"
     ]
    }
   ],
   "source": [
    "#Q17\n",
    "lista = input().split(',')\n",
    "deposit, withs, balance = 0,0,0\n",
    "\n",
    "for i in range(len(lista)):\n",
    "    if lista[i].startswith('D'):\n",
    "        deposit += int(lista[i].split(' ')[1])\n",
    "    elif lista[i].startswith('W'):\n",
    "        withs += int(lista[i].split(' ')[1])\n",
    "\n",
    "balance = deposit - withs\n",
    "print(balance)"
   ]
  },
  {
   "cell_type": "markdown",
   "metadata": {},
   "source": [
    "# Dia 6"
   ]
  },
  {
   "cell_type": "code",
   "execution_count": 11,
   "metadata": {},
   "outputs": [
    {
     "name": "stdout",
     "output_type": "stream",
     "text": [
      "ABd1234@1,a F1#,2w3E*,2We3345\n",
      "['ABd1234@1']\n"
     ]
    }
   ],
   "source": [
    "#Q18\n",
    "import re\n",
    "passwords = input().split(',')\n",
    "corrects = []\n",
    "regex = re.compile(r\"^(?=.*[0-9])(?=.*[a-z])(?=.*[A-Z])(?=.*[$#@]).{6,12}$\")\n",
    "\n",
    "for passw in passwords:\n",
    "    if regex.fullmatch(passw):\n",
    "        corrects.append(passw)\n",
    "        \n",
    "print(corrects)\n"
   ]
  },
  {
   "cell_type": "code",
   "execution_count": 14,
   "metadata": {},
   "outputs": [
    {
     "name": "stdout",
     "output_type": "stream",
     "text": [
      "Tom,19,80 John,20,90 Jony,17,91 Jony,17,93 Json,21,85\n",
      "['John,20,90', 'Jony,17,91', 'Jony,17,93', 'Json,21,85', 'Tom,19,80']\n"
     ]
    }
   ],
   "source": [
    "#Q19\n",
    "lista = tuple(input().split(' '))\n",
    "\n",
    "print(sorted(lista,key=lambda x: (x[0],x[1], x[2])))\n"
   ]
  },
  {
   "cell_type": "markdown",
   "metadata": {},
   "source": [
    "# Dia 7"
   ]
  },
  {
   "cell_type": "code",
   "execution_count": 13,
   "metadata": {},
   "outputs": [],
   "source": [
    "#Q20\n",
    "\n",
    "def generatorseven(n):\n",
    "    for i in range(0,n+1):\n",
    "        if i%7 == 0:\n",
    "            yield i"
   ]
  },
  {
   "cell_type": "code",
   "execution_count": 14,
   "metadata": {},
   "outputs": [
    {
     "name": "stdout",
     "output_type": "stream",
     "text": [
      "0\n",
      "7\n"
     ]
    }
   ],
   "source": [
    "for i in generatorseven(7):\n",
    "    print(i)"
   ]
  },
  {
   "cell_type": "code",
   "execution_count": 16,
   "metadata": {},
   "outputs": [
    {
     "name": "stdout",
     "output_type": "stream",
     "text": [
      "UP 5,DOWN 3,LEFT 3,RIGHT 2\n",
      "2\n"
     ]
    }
   ],
   "source": [
    "#Q21\n",
    "import math\n",
    "\n",
    "lista = input().split(',')\n",
    "x0,y0 = 0,0\n",
    "x,y = 0,0\n",
    "\n",
    "for i in range(len(lista)):\n",
    "    if lista[i].startswith('U'):\n",
    "        x += int(lista[i].split(' ')[1])\n",
    "    elif lista[i].startswith('D'):\n",
    "        x -= int(lista[i].split(' ')[1])\n",
    "    elif lista[i].startswith('L'):\n",
    "        y += int(lista[i].split(' ')[1])\n",
    "    elif lista[i].startswith('R'):\n",
    "        y -= int(lista[i].split(' ')[1])\n",
    "        \n",
    "distance = int(math.sqrt(x**2 + y**2))\n",
    "print(distance)"
   ]
  },
  {
   "cell_type": "markdown",
   "metadata": {},
   "source": [
    "# Dia 8"
   ]
  },
  {
   "cell_type": "code",
   "execution_count": 2,
   "metadata": {},
   "outputs": [
    {
     "name": "stdout",
     "output_type": "stream",
     "text": [
      "New to Python or choosing between Python 2 and Python 3? Read Python 2 or Python 3.\n"
     ]
    },
    {
     "data": {
      "text/plain": [
       "[['choosing', 1],\n",
       " ['Python', 5],\n",
       " ['2', 2],\n",
       " ['and', 1],\n",
       " ['between', 1],\n",
       " ['3.', 1],\n",
       " ['or', 2],\n",
       " ['3?', 1],\n",
       " ['Read', 1],\n",
       " ['to', 1],\n",
       " ['New', 1]]"
      ]
     },
     "execution_count": 2,
     "metadata": {},
     "output_type": "execute_result"
    }
   ],
   "source": [
    "#Q22\n",
    "listapal = input().split(' ')\n",
    "[[x,listapal.count(x)] for x in set(listapal)] \n"
   ]
  },
  {
   "cell_type": "code",
   "execution_count": 4,
   "metadata": {},
   "outputs": [
    {
     "name": "stdout",
     "output_type": "stream",
     "text": [
      "\n",
      "    param num: This is the number to be squared\n",
      "    return: This method returns the squared of the num\n",
      "    \n"
     ]
    },
    {
     "data": {
      "text/plain": [
       "4"
      ]
     },
     "execution_count": 4,
     "metadata": {},
     "output_type": "execute_result"
    }
   ],
   "source": [
    "#Q23\n",
    "def square(num):\n",
    "    '''\n",
    "    param num: This is the number to be squared\n",
    "    return: This method returns the squared of the num\n",
    "    '''\n",
    "    return num**2\n",
    "\n",
    "print(square.__doc__)\n",
    "square(2)"
   ]
  },
  {
   "cell_type": "code",
   "execution_count": 6,
   "metadata": {},
   "outputs": [
    {
     "name": "stdout",
     "output_type": "stream",
     "text": [
      "Torve\n",
      "trove\n"
     ]
    }
   ],
   "source": [
    "#Q24\n",
    "class objectExample():\n",
    "    name = \"examples\"\n",
    "    \n",
    "    def __init__(self, name=None):\n",
    "        self.name = name\n",
    "        \n",
    "miau = objectExample(\"Torve\")\n",
    "print(miau.name)\n",
    "\n",
    "mew = objectExample()\n",
    "mew.name = \"trove\"\n",
    "\n",
    "print(mew.name)"
   ]
  },
  {
   "cell_type": "markdown",
   "metadata": {},
   "source": [
    "# Dia 9"
   ]
  },
  {
   "cell_type": "code",
   "execution_count": 1,
   "metadata": {},
   "outputs": [
    {
     "data": {
      "text/plain": [
       "7"
      ]
     },
     "execution_count": 1,
     "metadata": {},
     "output_type": "execute_result"
    }
   ],
   "source": [
    "#Q26\n",
    "def sumfunction(num1, num2):\n",
    "    return num1+num2\n",
    "\n",
    "sumfunction(5,2)"
   ]
  },
  {
   "cell_type": "code",
   "execution_count": 2,
   "metadata": {},
   "outputs": [
    {
     "name": "stdout",
     "output_type": "stream",
     "text": [
      "12\n"
     ]
    }
   ],
   "source": [
    "#Q27\n",
    "def convertStr(num):\n",
    "    return str(num)\n",
    "\n",
    "print(convertStr(12))"
   ]
  },
  {
   "cell_type": "code",
   "execution_count": 3,
   "metadata": {},
   "outputs": [
    {
     "data": {
      "text/plain": [
       "22"
      ]
     },
     "execution_count": 3,
     "metadata": {},
     "output_type": "execute_result"
    }
   ],
   "source": [
    "#Q28\n",
    "def sumfunstr(num1, num2):\n",
    "    return int(num1) + int(num2)\n",
    "\n",
    "sumfunstr(\"20\",\"2\")"
   ]
  },
  {
   "cell_type": "code",
   "execution_count": 4,
   "metadata": {},
   "outputs": [
    {
     "data": {
      "text/plain": [
       "'HolaPadre'"
      ]
     },
     "execution_count": 4,
     "metadata": {},
     "output_type": "execute_result"
    }
   ],
   "source": [
    "#Q29\n",
    "def concatenatestr(str1, str2):\n",
    "    return str1 + str2\n",
    "\n",
    "concatenatestr(\"Hola\",\"Padre\")"
   ]
  },
  {
   "cell_type": "code",
   "execution_count": 13,
   "metadata": {},
   "outputs": [
    {
     "data": {
      "text/plain": [
       "('Hola', 'Alas')"
      ]
     },
     "execution_count": 13,
     "metadata": {},
     "output_type": "execute_result"
    }
   ],
   "source": [
    "#Q30\n",
    "def printbymaxstr(str1, str2):\n",
    "    len1 = len(str1)\n",
    "    len2 = len(str2)\n",
    "    if len1>len2:\n",
    "        return str1\n",
    "    elif len2>len1:\n",
    "        return str2\n",
    "    else:\n",
    "        return str1,str2\n",
    "    \n",
    "printbymaxstr(\"Hola\",\"Alas\")"
   ]
  },
  {
   "cell_type": "markdown",
   "metadata": {},
   "source": [
    "# Dia 10"
   ]
  },
  {
   "cell_type": "code",
   "execution_count": 11,
   "metadata": {},
   "outputs": [],
   "source": [
    "#Q31\n",
    "def printDict():\n",
    "    dics = {}\n",
    "    for i in range(1,21):\n",
    "        dics.update([(i,i**2)])\n",
    "    print(dics)"
   ]
  },
  {
   "cell_type": "code",
   "execution_count": 12,
   "metadata": {},
   "outputs": [
    {
     "name": "stdout",
     "output_type": "stream",
     "text": [
      "{1: 1, 2: 4, 3: 9, 4: 16, 5: 25, 6: 36, 7: 49, 8: 64, 9: 81, 10: 100, 11: 121, 12: 144, 13: 169, 14: 196, 15: 225, 16: 256, 17: 289, 18: 324, 19: 361, 20: 400}\n"
     ]
    }
   ],
   "source": [
    "printDict()"
   ]
  },
  {
   "cell_type": "code",
   "execution_count": 14,
   "metadata": {},
   "outputs": [
    {
     "name": "stdout",
     "output_type": "stream",
     "text": [
      "dict_keys([1, 2, 3, 4, 5, 6, 7, 8, 9, 10, 11, 12, 13, 14, 15, 16, 17, 18, 19, 20])\n"
     ]
    }
   ],
   "source": [
    "#Q32\n",
    "def printDictKeys():\n",
    "    dics = {}\n",
    "    for i in range(1,21):\n",
    "        dics.update([(i,i**2)])\n",
    "    print(dics.keys())\n",
    "printDictKeys()"
   ]
  },
  {
   "cell_type": "code",
   "execution_count": 16,
   "metadata": {},
   "outputs": [
    {
     "name": "stdout",
     "output_type": "stream",
     "text": [
      "[1, 4, 9, 16, 25, 36, 49, 64, 81, 100, 121, 144, 169, 196, 225, 256, 289, 324, 361, 400]\n"
     ]
    }
   ],
   "source": [
    "#Q33\n",
    "def listSquared():\n",
    "    lista = [i**2 for i in range(1,21)]\n",
    "    print(lista)\n",
    "    \n",
    "listSquared()"
   ]
  },
  {
   "cell_type": "code",
   "execution_count": 18,
   "metadata": {},
   "outputs": [
    {
     "name": "stdout",
     "output_type": "stream",
     "text": [
      "[1, 4, 9, 16, 25]\n"
     ]
    }
   ],
   "source": [
    "#Q34\n",
    "def listSquaredFive():\n",
    "    lista = [i**2 for i in range(1,21)]\n",
    "    print(lista[:5])\n",
    "    \n",
    "listSquaredFive()"
   ]
  },
  {
   "cell_type": "code",
   "execution_count": 22,
   "metadata": {},
   "outputs": [
    {
     "name": "stdout",
     "output_type": "stream",
     "text": [
      "[256, 289, 324, 361, 400]\n"
     ]
    }
   ],
   "source": [
    "#35\n",
    "def listSquaredLFive():\n",
    "    lista = [i**2 for i in range(1,21)]\n",
    "    print(lista[-5:])\n",
    "    \n",
    "listSquaredLFive()"
   ]
  },
  {
   "cell_type": "code",
   "execution_count": 23,
   "metadata": {},
   "outputs": [
    {
     "name": "stdout",
     "output_type": "stream",
     "text": [
      "[36, 49, 64, 81, 100, 121, 144, 169, 196, 225, 256, 289, 324, 361, 400]\n"
     ]
    }
   ],
   "source": [
    "#36\n",
    "def listSquaredNFive():\n",
    "    lista = [i**2 for i in range(1,21)]\n",
    "    print(lista[5:])\n",
    "    \n",
    "listSquaredNFive()"
   ]
  },
  {
   "cell_type": "code",
   "execution_count": 24,
   "metadata": {},
   "outputs": [
    {
     "name": "stdout",
     "output_type": "stream",
     "text": [
      "(1, 4, 9, 16, 25, 36, 49, 64, 81, 100, 121, 144, 169, 196, 225, 256, 289, 324, 361, 400)\n"
     ]
    }
   ],
   "source": [
    "#37\n",
    "def tupleSquared():\n",
    "    tupla = tuple([i**2 for i in range(1,21)])\n",
    "    print(tupla)\n",
    "    \n",
    "tupleSquared()"
   ]
  },
  {
   "cell_type": "markdown",
   "metadata": {},
   "source": [
    "# Dia 11"
   ]
  },
  {
   "cell_type": "code",
   "execution_count": 6,
   "metadata": {},
   "outputs": [
    {
     "name": "stdout",
     "output_type": "stream",
     "text": [
      "(1, 2, 3, 4, 5)\n",
      "(6, 7, 8, 9, 10)\n"
     ]
    }
   ],
   "source": [
    "#Q38\n",
    "tupla = (1,2,3,4,5,6,7,8,9,10)\n",
    "print(tupla[:int(len(tupla)/2)])\n",
    "print(tupla[int(len(tupla)/2):])"
   ]
  },
  {
   "cell_type": "code",
   "execution_count": 8,
   "metadata": {},
   "outputs": [
    {
     "data": {
      "text/plain": [
       "(2, 4, 6, 8, 10)"
      ]
     },
     "execution_count": 8,
     "metadata": {},
     "output_type": "execute_result"
    }
   ],
   "source": [
    "#Q39\n",
    "tupla = (1,2,3,4,5,6,7,8,9,10)\n",
    "tupla2 = tuple([i for i in tupla if i%2==0])\n",
    "tupla2"
   ]
  },
  {
   "cell_type": "code",
   "execution_count": 11,
   "metadata": {},
   "outputs": [
    {
     "name": "stdout",
     "output_type": "stream",
     "text": [
      "YES\n",
      "Yes\n"
     ]
    }
   ],
   "source": [
    "#Q40\n",
    "string = input()\n",
    "if string=='Yes' or string=='yes' or string == 'YES':\n",
    "    print('Yes')\n",
    "else:\n",
    "    print('No')\n",
    "    "
   ]
  },
  {
   "cell_type": "code",
   "execution_count": 13,
   "metadata": {},
   "outputs": [
    {
     "data": {
      "text/plain": [
       "[1, 4, 9, 16, 25, 36, 49, 64, 81, 100]"
      ]
     },
     "execution_count": 13,
     "metadata": {},
     "output_type": "execute_result"
    }
   ],
   "source": [
    "#Q41\n",
    "lista = [1,2,3,4,5,6,7,8,9,10]\n",
    "squared = map(lambda x:x**2, lista)\n",
    "list(squared)"
   ]
  },
  {
   "cell_type": "code",
   "execution_count": 14,
   "metadata": {},
   "outputs": [
    {
     "data": {
      "text/plain": [
       "[4, 16, 36, 64, 100]"
      ]
     },
     "execution_count": 14,
     "metadata": {},
     "output_type": "execute_result"
    }
   ],
   "source": [
    "#Q42\n",
    "lista = [1,2,3,4,5,6,7,8,9,10]\n",
    "squared_even = list(map(lambda x:x**2,filter(lambda x:x%2==0,lista)))\n",
    "squared_even"
   ]
  },
  {
   "cell_type": "code",
   "execution_count": 18,
   "metadata": {},
   "outputs": [
    {
     "data": {
      "text/plain": [
       "[2, 4, 6, 8, 10, 12, 14, 16, 18, 20]"
      ]
     },
     "execution_count": 18,
     "metadata": {},
     "output_type": "execute_result"
    }
   ],
   "source": [
    "#Q43\n",
    "evens = list(filter(lambda x:x%2==0, [i for i in range(1,21)]))\n",
    "evens"
   ]
  },
  {
   "cell_type": "markdown",
   "metadata": {},
   "source": [
    "# Dia 12"
   ]
  },
  {
   "cell_type": "code",
   "execution_count": 1,
   "metadata": {},
   "outputs": [
    {
     "name": "stdout",
     "output_type": "stream",
     "text": [
      "[1, 4, 9, 16, 25, 36, 49, 64, 81, 100, 121, 144, 169, 196, 225, 256, 289, 324, 361, 400]\n"
     ]
    }
   ],
   "source": [
    "#Q44\n",
    "squared = list(map(lambda x:x**2, range(1,21)))\n",
    "print(squared)"
   ]
  },
  {
   "cell_type": "code",
   "execution_count": 5,
   "metadata": {},
   "outputs": [
    {
     "name": "stdout",
     "output_type": "stream",
     "text": [
      "American\n"
     ]
    }
   ],
   "source": [
    "#Q45\n",
    "class American ():\n",
    "    nationality = \"American\"\n",
    "    \n",
    "    def printNationality(self):\n",
    "        print(self.nationality)\n",
    "\n",
    "americanino = American()\n",
    "americanino.printNationality()"
   ]
  },
  {
   "cell_type": "code",
   "execution_count": 7,
   "metadata": {},
   "outputs": [
    {
     "name": "stdout",
     "output_type": "stream",
     "text": [
      "<__main__.NewYorker object at 0x000001913D852F98>\n"
     ]
    }
   ],
   "source": [
    "#Q46\n",
    "class American(object):\n",
    "    pass\n",
    "\n",
    "class NewYorker(American):\n",
    "    pass\n",
    "\n",
    "mews = NewYorker()\n",
    "print(mews)"
   ]
  },
  {
   "cell_type": "markdown",
   "metadata": {},
   "source": [
    "# Dia 13"
   ]
  },
  {
   "cell_type": "code",
   "execution_count": 6,
   "metadata": {},
   "outputs": [
    {
     "name": "stdout",
     "output_type": "stream",
     "text": [
      "78.53981633974483\n"
     ]
    }
   ],
   "source": [
    "#Q47\n",
    "import math \n",
    "class circle():\n",
    "    def __init__(self, radius):\n",
    "        self.radius = radius\n",
    "        \n",
    "    def calc(self):\n",
    "        print(math.pi*self.radius**2)\n",
    "        \n",
    "circle1 = circle(5)\n",
    "circle1.calc()\n",
    "        "
   ]
  },
  {
   "cell_type": "code",
   "execution_count": 8,
   "metadata": {},
   "outputs": [
    {
     "name": "stdout",
     "output_type": "stream",
     "text": [
      "20\n"
     ]
    }
   ],
   "source": [
    "#Q48\n",
    "class Rectangle():\n",
    "    def __init__(self, l, w):\n",
    "        self.l = l\n",
    "        self.w = w\n",
    "        \n",
    "    def area(self):\n",
    "        print(self.l*self.w)\n",
    "        \n",
    "rectangle = Rectangle(10,2)\n",
    "rectangle.area()"
   ]
  },
  {
   "cell_type": "code",
   "execution_count": 9,
   "metadata": {},
   "outputs": [
    {
     "data": {
      "text/plain": [
       "25"
      ]
     },
     "execution_count": 9,
     "metadata": {},
     "output_type": "execute_result"
    }
   ],
   "source": [
    "#Q49\n",
    "class Shape(object):\n",
    "    def __init__(self):\n",
    "        pass\n",
    "    \n",
    "    def area(self):\n",
    "        print(0)\n",
    "        \n",
    "class Square(Shape):\n",
    "    def __init__(self, l):\n",
    "        Shape.__init__(self)\n",
    "        self.l = l\n",
    "    \n",
    "    def area(self):\n",
    "        return self.l**2\n",
    "    \n",
    "q1 = Square(5)\n",
    "q1.area()"
   ]
  },
  {
   "cell_type": "code",
   "execution_count": 10,
   "metadata": {},
   "outputs": [
    {
     "ename": "RuntimeError",
     "evalue": "holi",
     "output_type": "error",
     "traceback": [
      "\u001b[1;31m---------------------------------------------------------------------------\u001b[0m",
      "\u001b[1;31mRuntimeError\u001b[0m                              Traceback (most recent call last)",
      "\u001b[1;32m<ipython-input-10-4d03a29470c2>\u001b[0m in \u001b[0;36m<module>\u001b[1;34m\u001b[0m\n\u001b[0;32m      1\u001b[0m \u001b[1;31m#Q50\u001b[0m\u001b[1;33m\u001b[0m\u001b[1;33m\u001b[0m\u001b[0m\n\u001b[1;32m----> 2\u001b[1;33m \u001b[1;32mraise\u001b[0m \u001b[0mRuntimeError\u001b[0m\u001b[1;33m(\u001b[0m\u001b[1;34m'holi'\u001b[0m\u001b[1;33m)\u001b[0m\u001b[1;33m\u001b[0m\u001b[0m\n\u001b[0m",
      "\u001b[1;31mRuntimeError\u001b[0m: holi"
     ]
    }
   ],
   "source": [
    "#Q50\n",
    "raise RuntimeError('holi')"
   ]
  },
  {
   "cell_type": "markdown",
   "metadata": {},
   "source": [
    "# Dia 14"
   ]
  },
  {
   "cell_type": "code",
   "execution_count": 1,
   "metadata": {},
   "outputs": [
    {
     "name": "stdout",
     "output_type": "stream",
     "text": [
      "Error miau division by zero\n"
     ]
    }
   ],
   "source": [
    "def throws():\n",
    "    return 5/0\n",
    "\n",
    "try:\n",
    "    throws()\n",
    "except ZeroDivisionError as err:\n",
    "    print(\"Error miau\", err)\n",
    "\n",
    "\n"
   ]
  },
  {
   "cell_type": "code",
   "execution_count": 8,
   "metadata": {},
   "outputs": [
    {
     "name": "stdout",
     "output_type": "stream",
     "text": [
      "Error Miautico\n"
     ]
    }
   ],
   "source": [
    "class ExceptionMew(Exception):\n",
    "    def __init__(self,message):\n",
    "        self.message = message\n",
    "\n",
    "num=6\n",
    "\n",
    "try:\n",
    "    if num > 5:\n",
    "        raise ExceptionMew(\"Error Miautico\")\n",
    "    else:\n",
    "        print(num)\n",
    "except ExceptionMew as ce:\n",
    "    print(ce.message)"
   ]
  },
  {
   "cell_type": "code",
   "execution_count": 9,
   "metadata": {},
   "outputs": [
    {
     "data": {
      "text/plain": [
       "'john'"
      ]
     },
     "execution_count": 9,
     "metadata": {},
     "output_type": "execute_result"
    }
   ],
   "source": [
    "email = \"john@google.com\"\n",
    "\n",
    "email.split('@')[0]"
   ]
  },
  {
   "cell_type": "markdown",
   "metadata": {},
   "source": [
    "# Dia 15"
   ]
  },
  {
   "cell_type": "code",
   "execution_count": null,
   "metadata": {},
   "outputs": [],
   "source": []
  }
 ],
 "metadata": {
  "kernelspec": {
   "display_name": "Python 3",
   "language": "python",
   "name": "python3"
  },
  "language_info": {
   "codemirror_mode": {
    "name": "ipython",
    "version": 3
   },
   "file_extension": ".py",
   "mimetype": "text/x-python",
   "name": "python",
   "nbconvert_exporter": "python",
   "pygments_lexer": "ipython3",
   "version": "3.6.6rc1"
  }
 },
 "nbformat": 4,
 "nbformat_minor": 4
}
